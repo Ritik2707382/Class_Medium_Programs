{
  "nbformat": 4,
  "nbformat_minor": 0,
  "metadata": {
    "colab": {
      "provenance": []
    },
    "kernelspec": {
      "name": "python3",
      "display_name": "Python 3"
    },
    "language_info": {
      "name": "python"
    }
  },
  "cells": [
    {
      "cell_type": "code",
      "execution_count": 1,
      "metadata": {
        "colab": {
          "base_uri": "https://localhost:8080/"
        },
        "id": "nsBj4SXA8VrB",
        "outputId": "37b4fc73-06b8-4d3b-fca0-5a4c4b20ceab"
      },
      "outputs": [
        {
          "output_type": "stream",
          "name": "stdout",
          "text": [
            "It is Valid Triangle\n"
          ]
        }
      ],
      "source": [
        "class Triangle:\n",
        "  def __init__(self,side1,side2,side3):\n",
        "    self.side1=side1\n",
        "    self.side2=side2\n",
        "    self.side3=side3\n",
        "  def check(self):\n",
        "    if (self.side1 + self.side2 > self.side3) and (self.side2 + self.side3 > self.side1) and (self.side1 + self.side3 > self.side2):\n",
        "      print(\"It is Valid Triangle\")\n",
        "    else:\n",
        "      print(\"It is not a Valid Triangle\")\n",
        "t=Triangle(3,4,5)\n",
        "t.check()"
      ]
    }
  ]
}