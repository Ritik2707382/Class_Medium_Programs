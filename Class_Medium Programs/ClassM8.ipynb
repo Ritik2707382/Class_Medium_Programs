{
  "nbformat": 4,
  "nbformat_minor": 0,
  "metadata": {
    "colab": {
      "provenance": []
    },
    "kernelspec": {
      "name": "python3",
      "display_name": "Python 3"
    },
    "language_info": {
      "name": "python"
    }
  },
  "cells": [
    {
      "cell_type": "code",
      "execution_count": 3,
      "metadata": {
        "colab": {
          "base_uri": "https://localhost:8080/"
        },
        "id": "wGWAjcfjiKOD",
        "outputId": "fabb021b-b923-4e6b-db9b-1abc771a625e"
      },
      "outputs": [
        {
          "output_type": "stream",
          "name": "stdout",
          "text": [
            "The area of Rectangle: 12\n",
            "The Area of Circle: 12.56\n"
          ]
        }
      ],
      "source": [
        "class Shape:\n",
        "  def area(self):\n",
        "    print(\"Area of Shape\")\n",
        "class Rectangle(Shape):\n",
        "  def area(self,length,width):\n",
        "    self.length=length\n",
        "    self.width=width\n",
        "    area=self.length* self.width\n",
        "    print(\"The area of Rectangle:\",area)\n",
        "class Circle(Shape):\n",
        "  def area(self,radius):\n",
        "    self.radius=radius\n",
        "    area=3.14*self.radius*self.radius\n",
        "    print(\"The Area of Circle:\",area)\n",
        "r1=Rectangle()\n",
        "r1.area(3,4)\n",
        "c1=Circle()\n",
        "c1.area(2)"
      ]
    }
  ]
}