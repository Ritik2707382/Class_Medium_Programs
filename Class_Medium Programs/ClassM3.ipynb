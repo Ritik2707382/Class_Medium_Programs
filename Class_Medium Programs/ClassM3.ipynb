{
  "nbformat": 4,
  "nbformat_minor": 0,
  "metadata": {
    "colab": {
      "provenance": []
    },
    "kernelspec": {
      "name": "python3",
      "display_name": "Python 3"
    },
    "language_info": {
      "name": "python"
    }
  },
  "cells": [
    {
      "cell_type": "code",
      "execution_count": null,
      "metadata": {
        "id": "TGjtOBsw-Qye"
      },
      "outputs": [],
      "source": [
        "import math\n",
        "class Vector:\n",
        "  def __init__(self,x,y):\n",
        "    self.x=x\n",
        "    self.y=y\n",
        "  def magnitude(self):\n",
        "    magnitude=math.sqrt(self**x +self**y)\n",
        "  def dot_product(self,other):\n",
        "    dot_product=self.x * other.x + self.y * other.y"
      ]
    }
  ]
}