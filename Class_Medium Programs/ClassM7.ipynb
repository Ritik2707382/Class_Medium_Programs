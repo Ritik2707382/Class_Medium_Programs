{
  "nbformat": 4,
  "nbformat_minor": 0,
  "metadata": {
    "colab": {
      "provenance": []
    },
    "kernelspec": {
      "name": "python3",
      "display_name": "Python 3"
    },
    "language_info": {
      "name": "python"
    }
  },
  "cells": [
    {
      "cell_type": "code",
      "execution_count": null,
      "metadata": {
        "id": "uOjuudThfbjQ"
      },
      "outputs": [],
      "source": [
        "class Shape:\n",
        "  def area(self):\n",
        "    print(\"Area of Shape\")\n",
        "class Rectangle(Shape):\n",
        "  def area(self,length,width):\n",
        "    self.length=length\n",
        "    self.width=width\n",
        "    area=self.length* self.width\n",
        "class Circle(Shape):\n",
        "  def area(self,radius):\n",
        "    self.radius=radius\n",
        "    area=3.14*self.radius*self.radius"
      ]
    }
  ]
}