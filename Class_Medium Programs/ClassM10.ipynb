{
  "nbformat": 4,
  "nbformat_minor": 0,
  "metadata": {
    "colab": {
      "provenance": []
    },
    "kernelspec": {
      "name": "python3",
      "display_name": "Python 3"
    },
    "language_info": {
      "name": "python"
    }
  },
  "cells": [
    {
      "cell_type": "code",
      "execution_count": 1,
      "metadata": {
        "colab": {
          "base_uri": "https://localhost:8080/"
        },
        "id": "cL3dCkzCmBIj",
        "outputId": "2d10bb9f-84ae-4309-efe8-58335a8ebb2f"
      },
      "outputs": [
        {
          "output_type": "stream",
          "name": "stdout",
          "text": [
            "Bob is promoted to Senior Engineer and its increased salary is 110000\n"
          ]
        }
      ],
      "source": [
        "class Employee:\n",
        "  def __init__(self,name,position,salary):\n",
        "    self.name=name\n",
        "    self.position=position\n",
        "    self.salary=salary\n",
        "  def define(self,n_position,i_salary):\n",
        "    self.position=n_position\n",
        "    self.salary=self.salary+i_salary\n",
        "    print(f\"{self.name} is promoted to {self.position} and its increased salary is {self.salary}\")\n",
        "e1=Employee(\"Bob\",\"Engineer\",50000)\n",
        "e1.define(\"Senior Engineer\",60000)"
      ]
    }
  ]
}