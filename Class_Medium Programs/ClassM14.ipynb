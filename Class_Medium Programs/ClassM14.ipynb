{
  "nbformat": 4,
  "nbformat_minor": 0,
  "metadata": {
    "colab": {
      "provenance": []
    },
    "kernelspec": {
      "name": "python3",
      "display_name": "Python 3"
    },
    "language_info": {
      "name": "python"
    }
  },
  "cells": [
    {
      "cell_type": "code",
      "execution_count": 10,
      "metadata": {
        "colab": {
          "base_uri": "https://localhost:8080/"
        },
        "id": "8kh7vHgYxda2",
        "outputId": "5cd2cdf6-4456-4e03-f647-ec34d2aa4799"
      },
      "outputs": [
        {
          "output_type": "stream",
          "name": "stdout",
          "text": [
            "Stack is Not Empty\n",
            "Stack is Empty\n",
            "Stack is Not Empty\n",
            "Stack is Empty\n"
          ]
        }
      ],
      "source": [
        "class Stack:\n",
        "  def __init__(self):\n",
        "    self.items=[]\n",
        "  def push(self,item):\n",
        "    self.items.append(item)\n",
        "  def pop(self):\n",
        "    if not self.is_empty():\n",
        "      self.items.pop()\n",
        "    else:\n",
        "      print(\"Pop from Empty Stack\")\n",
        "  def is_empty(self):\n",
        "    if len(self.items)==0:\n",
        "      print(\"Stack is Empty\")\n",
        "    else:\n",
        "      print(\"Stack is Not Empty\")\n",
        "s1=Stack()\n",
        "s1.push(5)\n",
        "s1.pop()\n",
        "s1.is_empty()\n",
        "s2=Stack()\n",
        "s2.push(6)\n",
        "s2.pop()\n",
        "s2.is_empty()"
      ]
    }
  ]
}