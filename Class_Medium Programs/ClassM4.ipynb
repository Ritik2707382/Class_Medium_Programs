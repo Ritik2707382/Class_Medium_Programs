{
  "nbformat": 4,
  "nbformat_minor": 0,
  "metadata": {
    "colab": {
      "provenance": []
    },
    "kernelspec": {
      "name": "python3",
      "display_name": "Python 3"
    },
    "language_info": {
      "name": "python"
    }
  },
  "cells": [
    {
      "cell_type": "code",
      "execution_count": null,
      "metadata": {
        "colab": {
          "base_uri": "https://localhost:8080/"
        },
        "id": "u4IBRVbnSuLZ",
        "outputId": "1f39bd84-bc82-48c3-adaa-be4c2e7ab795"
      },
      "outputs": [
        {
          "output_type": "stream",
          "name": "stdout",
          "text": [
            "The Magnitude of Vectors: 2.23606797749979\n",
            "The Dot Product of Vectors: 8\n"
          ]
        }
      ],
      "source": [
        "import math\n",
        "class Vector:\n",
        "  def __init__(self,x,y):\n",
        "    self.x=x\n",
        "    self.y=y\n",
        "  def magnitude(self):\n",
        "    magnitude=math.sqrt(self.x**2 +self.y**2)\n",
        "    print(\"The Magnitude of Vectors:\",magnitude)\n",
        "  def dot_product(self,another):\n",
        "    dot_product=self.x * another.x + self.y * another.y\n",
        "    print(\"The Dot Product of Vectors:\",dot_product)\n",
        "v1=Vector(1,2)\n",
        "v2=Vector(2,3)\n",
        "v1.magnitude()\n",
        "v1.dot_product(v2)"
      ]
    }
  ]
}