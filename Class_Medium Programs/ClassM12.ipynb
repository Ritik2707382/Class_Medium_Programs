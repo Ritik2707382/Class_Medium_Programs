{
  "nbformat": 4,
  "nbformat_minor": 0,
  "metadata": {
    "colab": {
      "provenance": []
    },
    "kernelspec": {
      "name": "python3",
      "display_name": "Python 3"
    },
    "language_info": {
      "name": "python"
    }
  },
  "cells": [
    {
      "cell_type": "code",
      "execution_count": 1,
      "metadata": {
        "colab": {
          "base_uri": "https://localhost:8080/"
        },
        "id": "eSDhVNGRoamf",
        "outputId": "bc578aff-c14f-46bb-9d38-e42b7dd75b0a"
      },
      "outputs": [
        {
          "output_type": "stream",
          "name": "stdout",
          "text": [
            "Distance between two Points: 1.4142135623730951\n"
          ]
        }
      ],
      "source": [
        "import math\n",
        "class Points:\n",
        "  def __init__(self,x,y):\n",
        "    self.x=x\n",
        "    self.y=y\n",
        "  def calculate(self,other):\n",
        "    distance=math.sqrt((self.x-other.x)**2 + (self.y-other.y)**2)\n",
        "    print(\"Distance between two Points:\",distance)\n",
        "d1=Points(1,2)\n",
        "d2=Points(2,1)\n",
        "d1.calculate(d2)"
      ]
    }
  ]
}