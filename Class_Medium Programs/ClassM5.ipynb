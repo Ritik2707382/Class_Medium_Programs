{
  "nbformat": 4,
  "nbformat_minor": 0,
  "metadata": {
    "colab": {
      "provenance": []
    },
    "kernelspec": {
      "name": "python3",
      "display_name": "Python 3"
    },
    "language_info": {
      "name": "python"
    }
  },
  "cells": [
    {
      "cell_type": "code",
      "execution_count": 1,
      "metadata": {
        "id": "sHsnCGUKU4EF"
      },
      "outputs": [],
      "source": [
        "class BankCustomer:\n",
        "  def __init__(self,name,balance,transactions):\n",
        "    self.name=name\n",
        "    self.balance=balance\n",
        "    self.transactions=transactions\n",
        "  def deposit(self,amount):\n",
        "    if amount>0:\n",
        "      self.balance=self.balance+100\n",
        "  def withdraw(self,amount):\n",
        "    if amount>self.balance:\n",
        "      print(\"No Amount can be withdrawed\")\n",
        "    if amount>0:\n",
        "      self.balance=self.balance-amount\n",
        "  def display_transaction(self):\n",
        "    print(f\"Transaction in {self.name}\")\n",
        "    for transaction in self.transaction:\n",
        "      print(transaction)"
      ]
    }
  ]
}