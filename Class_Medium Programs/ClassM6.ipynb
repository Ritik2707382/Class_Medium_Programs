{
  "nbformat": 4,
  "nbformat_minor": 0,
  "metadata": {
    "colab": {
      "provenance": []
    },
    "kernelspec": {
      "name": "python3",
      "display_name": "Python 3"
    },
    "language_info": {
      "name": "python"
    }
  },
  "cells": [
    {
      "cell_type": "code",
      "execution_count": 3,
      "metadata": {
        "colab": {
          "base_uri": "https://localhost:8080/"
        },
        "id": "HZ0WEzGmXRNC",
        "outputId": "eb721ded-e9b8-4831-d681-ca4dc86a4f9c"
      },
      "outputs": [
        {
          "output_type": "stream",
          "name": "stdout",
          "text": [
            "Transaction history for Alice:\n",
            "Deposited: 500\n",
            "Deposited: 500\n",
            "Withdraw: 200\n",
            "Current Balance for Alice: $1800\n"
          ]
        }
      ],
      "source": [
        "class BankCustomer:\n",
        "  def __init__(self,name,balance,transactions):\n",
        "    self.name=name\n",
        "    self.balance=balance\n",
        "    self.transactions=transactions\n",
        "  def deposit(self,amount):\n",
        "    if amount>0:\n",
        "      self.balance=self.balance+amount\n",
        "      self.transactions.append(f\"Deposited: {amount}\")\n",
        "  def withdraw(self,amount):\n",
        "    if amount>self.balance:\n",
        "      print(\"No Amount can be withdrawed\")\n",
        "    if amount>0:\n",
        "      self.balance=self.balance-amount\n",
        "      self.transactions.append(f\"Withdraw: {amount}\")\n",
        "  def display_transactions(self):\n",
        "    print(f\"Transaction history for {self.name}:\")\n",
        "    for transaction in self.transactions:\n",
        "      print(transaction)\n",
        "b=BankCustomer(\"Alice\",1000,[])\n",
        "b.deposit(500)\n",
        "b.withdraw(200)\n",
        "b.display_transactions()\n",
        "print(f\"Current Balance for {b.name}: ${b.balance}\")"
      ]
    }
  ]
}