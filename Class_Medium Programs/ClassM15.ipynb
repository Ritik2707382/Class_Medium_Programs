{
  "nbformat": 4,
  "nbformat_minor": 0,
  "metadata": {
    "colab": {
      "provenance": []
    },
    "kernelspec": {
      "name": "python3",
      "display_name": "Python 3"
    },
    "language_info": {
      "name": "python"
    }
  },
  "cells": [
    {
      "cell_type": "code",
      "execution_count": null,
      "metadata": {
        "id": "lsulHbqMznua"
      },
      "outputs": [],
      "source": [
        "class Queue:\n",
        "  def __init__(self):\n",
        "    self.items=[]\n",
        "  def enqueue(self,item):\n",
        "    self.items.append(item)\n",
        "  def dequeue(self):\n",
        "    if not self.is_empty:\n",
        "      self.items.pop()\n",
        "    else:\n",
        "      print(\"Queue is Empty\")\n",
        "  def is_empty(self):\n",
        "    if len(self.items)==0:\n",
        "      print(\"The Given Queue is Empty\")\n",
        "    else:\n",
        "      print(\"The Given Queue is not Empty\")"
      ]
    }
  ]
}