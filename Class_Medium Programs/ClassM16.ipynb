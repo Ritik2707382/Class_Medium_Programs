{
  "nbformat": 4,
  "nbformat_minor": 0,
  "metadata": {
    "colab": {
      "provenance": []
    },
    "kernelspec": {
      "name": "python3",
      "display_name": "Python 3"
    },
    "language_info": {
      "name": "python"
    }
  },
  "cells": [
    {
      "cell_type": "code",
      "execution_count": 6,
      "metadata": {
        "colab": {
          "base_uri": "https://localhost:8080/"
        },
        "id": "uLIpeP-q2JoB",
        "outputId": "f0d51ab5-1f57-4fcf-bbbb-7528ec86bd87"
      },
      "outputs": [
        {
          "output_type": "stream",
          "name": "stdout",
          "text": [
            "Queue is Empty\n",
            "The Given Queue is not Empty\n"
          ]
        }
      ],
      "source": [
        "class Queue:\n",
        "  def __init__(self):\n",
        "    self.items=[]\n",
        "  def enqueue(self,item):\n",
        "    self.items.append(item)\n",
        "  def dequeue(self):\n",
        "    if not self.is_empty:\n",
        "      self.items.pop()\n",
        "    else:\n",
        "      print(\"Queue is Empty\")\n",
        "  def is_empty(self):\n",
        "    if len(self.items)==0:\n",
        "      print(\"The Given Queue is Empty\")\n",
        "    else:\n",
        "      print(\"The Given Queue is not Empty\")\n",
        "q1=Queue()\n",
        "q1.enqueue(5)\n",
        "q1.enqueue(6)\n",
        "q1.dequeue()\n",
        "q1.is_empty()"
      ]
    }
  ]
}