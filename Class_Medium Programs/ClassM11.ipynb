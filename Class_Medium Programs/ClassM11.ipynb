{
  "nbformat": 4,
  "nbformat_minor": 0,
  "metadata": {
    "colab": {
      "provenance": []
    },
    "kernelspec": {
      "name": "python3",
      "display_name": "Python 3"
    },
    "language_info": {
      "name": "python"
    }
  },
  "cells": [
    {
      "cell_type": "code",
      "execution_count": 1,
      "metadata": {
        "id": "OGdBr6FUmtQZ"
      },
      "outputs": [],
      "source": [
        "import math\n",
        "class Points:\n",
        "  def __init__(self,x,y):\n",
        "    self.x=x\n",
        "    self.y=y\n",
        "  def calculate(self,other):\n",
        "    distance=math.sqrt((self.x-other.x)**2 + (self.y-other.y)**2)\n",
        "    print(\"Distance between two Points:\",distance)"
      ]
    }
  ]
}