{
  "nbformat": 4,
  "nbformat_minor": 0,
  "metadata": {
    "colab": {
      "provenance": []
    },
    "kernelspec": {
      "name": "python3",
      "display_name": "Python 3"
    },
    "language_info": {
      "name": "python"
    }
  },
  "cells": [
    {
      "cell_type": "code",
      "execution_count": 1,
      "metadata": {
        "id": "6kV214JOp1uL"
      },
      "outputs": [],
      "source": [
        "class Stack:\n",
        "  def __init__(self):\n",
        "    self.items=[]\n",
        "  def push(self,item):\n",
        "    self.items.append(item)\n",
        "  def pop(self):\n",
        "    if not self.is_empty():\n",
        "      self.items.pop()\n",
        "    else:\n",
        "      print(\"Pop from Empty Stack\")\n",
        "  def is_empty(self):\n",
        "    if len(self.items==0):\n",
        "      print(\"Stack is Empty\")"
      ]
    }
  ]
}