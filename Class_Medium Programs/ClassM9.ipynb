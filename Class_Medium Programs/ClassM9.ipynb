{
  "nbformat": 4,
  "nbformat_minor": 0,
  "metadata": {
    "colab": {
      "provenance": []
    },
    "kernelspec": {
      "name": "python3",
      "display_name": "Python 3"
    },
    "language_info": {
      "name": "python"
    }
  },
  "cells": [
    {
      "cell_type": "code",
      "execution_count": null,
      "metadata": {
        "id": "RoCDxqxgkAHm"
      },
      "outputs": [],
      "source": [
        "class Employee:\n",
        "  def __init__(self,name,position,salary):\n",
        "    self.name=name\n",
        "    self.position=position\n",
        "    self.salary=salary\n",
        "  def define(self,n_position,i_salary):\n",
        "    self.position=n_position\n",
        "    self.salary=self.salary+i_salary\n",
        "    print(f\"{self.name} is promoted to {self.position} and its increased salary is {self.salary}\")"
      ]
    }
  ]
}